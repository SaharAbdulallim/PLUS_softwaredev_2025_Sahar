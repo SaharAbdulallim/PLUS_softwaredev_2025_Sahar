{
 "cells": [
  {
   "cell_type": "code",
   "execution_count": 2,
   "id": "89e1ae4d-17d7-486d-a24b-1c6ebefa780a",
   "metadata": {},
   "outputs": [
    {
     "data": {
      "text/plain": [
       "'\\nhello\\n'"
      ]
     },
     "execution_count": 2,
     "metadata": {},
     "output_type": "execute_result"
    }
   ],
   "source": [
    "#comments in python\n",
    "#this is my first\n",
    "'''\n",
    "hello\n",
    "'''"
   ]
  },
  {
   "cell_type": "code",
   "execution_count": 4,
   "id": "a8db0463-4407-4492-a255-7e095862b3ef",
   "metadata": {},
   "outputs": [],
   "source": [
    "y = 4.9"
   ]
  },
  {
   "cell_type": "code",
   "execution_count": 6,
   "id": "7d817608-4df4-4b13-a979-f7d1dc919207",
   "metadata": {},
   "outputs": [
    {
     "data": {
      "text/plain": [
       "5"
      ]
     },
     "execution_count": 6,
     "metadata": {},
     "output_type": "execute_result"
    }
   ],
   "source": [
    "round (y)"
   ]
  },
  {
   "cell_type": "code",
   "execution_count": null,
   "id": "002da37a-5c78-4557-baf2-a1f17eca81e5",
   "metadata": {},
   "outputs": [],
   "source": []
  }
 ],
 "metadata": {
  "kernelspec": {
   "display_name": "Python 3 (ipykernel)",
   "language": "python",
   "name": "python3"
  },
  "language_info": {
   "codemirror_mode": {
    "name": "ipython",
    "version": 3
   },
   "file_extension": ".py",
   "mimetype": "text/x-python",
   "name": "python",
   "nbconvert_exporter": "python",
   "pygments_lexer": "ipython3",
   "version": "3.12.4"
  }
 },
 "nbformat": 4,
 "nbformat_minor": 5
}
